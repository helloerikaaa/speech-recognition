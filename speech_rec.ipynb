{
  "nbformat": 4,
  "nbformat_minor": 0,
  "metadata": {
    "colab": {
      "name": "speech_rec.ipynb",
      "provenance": [],
      "collapsed_sections": [],
      "authorship_tag": "ABX9TyOiyYecbFahhcbqBG4nXV1j",
      "include_colab_link": true
    },
    "kernelspec": {
      "name": "python3",
      "display_name": "Python 3"
    },
    "accelerator": "GPU"
  },
  "cells": [
    {
      "cell_type": "markdown",
      "metadata": {
        "id": "view-in-github",
        "colab_type": "text"
      },
      "source": [
        "<a href=\"https://colab.research.google.com/github/helloerikaaa/speech-recognition/blob/master/speech_rec.ipynb\" target=\"_parent\"><img src=\"https://colab.research.google.com/assets/colab-badge.svg\" alt=\"Open In Colab\"/></a>"
      ]
    },
    {
      "cell_type": "code",
      "metadata": {
        "id": "RdUHoR_uulxN",
        "colab_type": "code",
        "colab": {
          "base_uri": "https://localhost:8080/",
          "height": 1000
        },
        "outputId": "c1146b90-19ea-45b5-a286-8c4e28d74654"
      },
      "source": [
        "!unzip train.zip\n",
        "!unzip test.zip"
      ],
      "execution_count": 86,
      "outputs": [
        {
          "output_type": "stream",
          "text": [
            "Archive:  train.zip\n",
            "replace train/.DS_Store? [y]es, [n]o, [A]ll, [N]one, [r]ename: A\n",
            "  inflating: train/.DS_Store         \n",
            "  inflating: train/audio/.DS_Store   \n",
            "  inflating: train/audio/cargar_ruta/cargar_ruta_1594849548434_1234.wav  \n",
            "  inflating: train/audio/cargar_ruta/cargar_ruta_1594849773539_1234.wav  \n",
            "  inflating: train/audio/cargar_ruta/cargar_ruta_1594848968505_1234.wav  \n",
            "  inflating: train/audio/cargar_ruta/cargar_ruta_1594849199147_1234.wav  \n",
            "  inflating: train/audio/cargar_ruta/cargar_ruta_1594849888989_1234.wav  \n",
            "  inflating: train/audio/cargar_ruta/cargar_ruta_1594849097396_1234.wav  \n",
            "  inflating: train/audio/cargar_ruta/cargar_ruta_1594849490163_1234.wav  \n",
            "  inflating: train/audio/cargar_ruta/cargar_ruta_1594849342747_1234.wav  \n",
            "  inflating: train/audio/cargar_ruta/cargar_ruta_1594849280880_1234.wav  \n",
            "  inflating: train/audio/cargar_ruta/cargar_ruta_1594849678257_1234.wav  \n",
            "  inflating: train/audio/cargar_ruta/cargar_ruta_1594849398763_1234.wav  \n",
            "  inflating: train/audio/cargar_ruta/cargar_ruta_1594848879972_1234.wav  \n",
            "  inflating: train/audio/cargar_ruta/cargar_ruta_1594849037989_1234.wav  \n",
            "  inflating: train/audio/rendir_ruta/rendir_ruta_1594849041531_1234.wav  \n",
            "  inflating: train/audio/rendir_ruta/rendir_ruta_1594848882336_1234.wav  \n",
            "  inflating: train/audio/rendir_ruta/rendir_ruta_1594849777088_1234.wav  \n",
            "  inflating: train/audio/rendir_ruta/rendir_ruta_1594849099738_1234.wav  \n",
            "  inflating: train/audio/rendir_ruta/rendir_ruta_1594849403213_1234.wav  \n",
            "  inflating: train/audio/rendir_ruta/rendir_ruta_1594848971330_1234.wav  \n",
            "  inflating: train/audio/rendir_ruta/rendir_ruta_1594849562715_1234.wav  \n",
            "  inflating: train/audio/rendir_ruta/rendir_ruta_1594849345304_1234.wav  \n",
            "  inflating: train/audio/rendir_ruta/rendir_ruta_1594849681684_1234.wav  \n",
            "  inflating: train/audio/rendir_ruta/rendir_ruta_1594849892439_1234.wav  \n",
            "  inflating: train/audio/rendir_ruta/rendir_ruta_1594849205031_1234.wav  \n",
            "  inflating: train/audio/rendir_ruta/rendir_ruta_1594849494672_1234.wav  \n",
            "  inflating: train/audio/rendir_ruta/rendir_ruta_1594849284688_1234.wav  \n",
            "  inflating: train/audio/ayuda/ayuda_1594849288064_1234.wav  \n",
            "  inflating: train/audio/ayuda/ayuda_1594848973647_1234.wav  \n",
            "  inflating: train/audio/ayuda/ayuda_1594849497472_1234.wav  \n",
            "  inflating: train/audio/ayuda/ayuda_1594849045056_1234.wav  \n",
            "  inflating: train/audio/ayuda/ayuda_1594849210264_1234.wav  \n",
            "  inflating: train/audio/ayuda/ayuda_1594849348236_1234.wav  \n",
            "  inflating: train/audio/ayuda/ayuda_1594849105363_1234.wav  \n",
            "  inflating: train/audio/ayuda/ayuda_1594849406938_1234.wav  \n",
            "  inflating: train/audio/ayuda/ayuda_1594849685080_1234.wav  \n",
            "  inflating: train/audio/ayuda/ayuda_1594849780238_1234.wav  \n",
            "  inflating: train/audio/ayuda/ayuda_1594849565822_1234.wav  \n",
            "  inflating: train/audio/ayuda/ayuda_1594849895872_1234.wav  \n",
            "  inflating: train/audio/ayuda/ayuda_1594848885027_1234.wav  \n",
            "  inflating: train/audio/hola_pepe/hola_pepe_1594849385556_1234.wav  \n",
            "  inflating: train/audio/hola_pepe/hola_pepe_1594849540473_1234.wav  \n",
            "  inflating: train/audio/hola_pepe/hola_pepe_1594849092745_1234.wav  \n",
            "  inflating: train/audio/hola_pepe/hola_pepe_1594849183614_1234.wav  \n",
            "  inflating: train/audio/hola_pepe/hola_pepe_1594849272663_1234.wav  \n",
            "  inflating: train/audio/hola_pepe/hola_pepe_1594849029422_1234.wav  \n",
            "  inflating: train/audio/hola_pepe/hola_pepe_1594849654938_1234.wav  \n",
            "  inflating: train/audio/hola_pepe/hola_pepe_1594849467443_1234.wav  \n",
            "  inflating: train/audio/hola_pepe/hola_pepe_1594848874846_1234.wav  \n",
            "  inflating: train/audio/hola_pepe/hola_pepe_1594849843072_1234.wav  \n",
            "  inflating: train/audio/hola_pepe/hola_pepe_1594849336104_1234.wav  \n",
            "  inflating: train/audio/hola_pepe/hola_pepe_1594849765721_1234.wav  \n",
            "  inflating: train/audio/hola_pepe/hola_pepe_1594848953835_1234.wav  \n",
            "  inflating: train/audio/como_me_llamo/como_me_llamo_1594849579233_1234.wav  \n",
            "  inflating: train/audio/como_me_llamo/como_me_llamo_1594849511454_1234.wav  \n",
            "  inflating: train/audio/como_me_llamo/como_me_llamo_1594849061405_1234.wav  \n",
            "  inflating: train/audio/como_me_llamo/como_me_llamo_1594848997638_1234.wav  \n",
            "  inflating: train/audio/como_me_llamo/como_me_llamo_1594849424505_1234.wav  \n",
            "  inflating: train/audio/como_me_llamo/como_me_llamo_1594849359870_1234.wav  \n",
            "  inflating: train/audio/como_me_llamo/como_me_llamo_1594849303096_1234.wav  \n",
            "  inflating: train/audio/como_me_llamo/como_me_llamo_1594849916764_1234.wav  \n",
            "  inflating: train/audio/como_me_llamo/como_me_llamo_1594849241414_1234.wav  \n",
            "  inflating: train/audio/como_me_llamo/como_me_llamo_1594849116989_1234.wav  \n",
            "  inflating: train/audio/como_me_llamo/como_me_llamo_1594848896647_1234.wav  \n",
            "  inflating: train/audio/como_me_llamo/como_me_llamo_1594849703305_1234.wav  \n",
            "  inflating: train/audio/como_me_llamo/como_me_llamo_1594849797964_1234.wav  \n",
            "  inflating: train/audio/adios_pepe/adios_pepe_1594849033956_1234.wav  \n",
            "  inflating: train/audio/adios_pepe/adios_pepe_1594849192664_1234.wav  \n",
            "  inflating: train/audio/adios_pepe/adios_pepe_1594849885198_1234.wav  \n",
            "  inflating: train/audio/adios_pepe/adios_pepe_1594849276822_1234.wav  \n",
            "  inflating: train/audio/adios_pepe/adios_pepe_1594849770046_1234.wav  \n",
            "  inflating: train/audio/adios_pepe/adios_pepe_1594849670206_1234.wav  \n",
            "  inflating: train/audio/adios_pepe/adios_pepe_1594849339696_1234.wav  \n",
            "  inflating: train/audio/adios_pepe/adios_pepe_1594848965590_1234.wav  \n",
            "  inflating: train/audio/adios_pepe/adios_pepe_1594848877520_1234.wav  \n",
            "  inflating: train/audio/adios_pepe/adios_pepe_1594849094830_1234.wav  \n",
            "  inflating: train/audio/adios_pepe/adios_pepe_1594849390807_1234.wav  \n",
            "  inflating: train/audio/adios_pepe/adios_pepe_1594849546539_1234.wav  \n",
            "  inflating: train/audio/adios_pepe/adios_pepe_1594849477515_1234.wav  \n",
            "  inflating: train/audio/abonar/abonar_1594848887336_1234.wav  \n",
            "  inflating: train/audio/abonar/abonar_1594849291131_1234.wav  \n",
            "  inflating: train/audio/abonar/abonar_1594849048106_1234.wav  \n",
            "  inflating: train/audio/abonar/abonar_1594849783539_1234.wav  \n",
            "  inflating: train/audio/abonar/abonar_1594849500174_1234.wav  \n",
            "  inflating: train/audio/abonar/abonar_1594849898799_1234.wav  \n",
            "  inflating: train/audio/abonar/abonar_1594849215098_1234.wav  \n",
            "  inflating: train/audio/abonar/abonar_1594849350678_1234.wav  \n",
            "  inflating: train/audio/abonar/abonar_1594849568390_1234.wav  \n",
            "  inflating: train/audio/abonar/abonar_1594849410605_1234.wav  \n",
            "  inflating: train/audio/abonar/abonar_1594849688768_1234.wav  \n",
            "  inflating: train/audio/abonar/abonar_1594848976131_1234.wav  \n",
            "  inflating: train/audio/abonar/abonar_1594849107806_1234.wav  \n",
            "  inflating: train/audio/quien_te_hizo/quien_te_hizo_1594849793888_1234.wav  \n",
            "  inflating: train/audio/quien_te_hizo/quien_te_hizo_1594849420663_1234.wav  \n",
            "  inflating: train/audio/quien_te_hizo/quien_te_hizo_1594849236847_1234.wav  \n",
            "  inflating: train/audio/quien_te_hizo/quien_te_hizo_1594849507322_1234.wav  \n",
            "  inflating: train/audio/quien_te_hizo/quien_te_hizo_1594849576588_1234.wav  \n",
            "  inflating: train/audio/quien_te_hizo/quien_te_hizo_1594849700027_1234.wav  \n",
            "  inflating: train/audio/quien_te_hizo/quien_te_hizo_1594848894255_1234.wav  \n",
            "  inflating: train/audio/quien_te_hizo/quien_te_hizo_1594849300513_1234.wav  \n",
            "  inflating: train/audio/quien_te_hizo/quien_te_hizo_1594849357711_1234.wav  \n",
            "  inflating: train/audio/quien_te_hizo/quien_te_hizo_1594848984680_1234.wav  \n",
            "  inflating: train/audio/quien_te_hizo/quien_te_hizo_1594849057947_1234.wav  \n",
            "  inflating: train/audio/quien_te_hizo/quien_te_hizo_1594849913197_1234.wav  \n",
            "  inflating: train/audio/quien_te_hizo/quien_te_hizo_1594849114664_1234.wav  \n",
            "  inflating: train/audio/quien_eres/quien_eres_1594849417363_1234.wav  \n",
            "  inflating: train/audio/quien_eres/quien_eres_1594849226064_1234.wav  \n",
            "  inflating: train/audio/quien_eres/quien_eres_1594849905064_1234.wav  \n",
            "  inflating: train/audio/quien_eres/quien_eres_1594849695606_1234.wav  \n",
            "  inflating: train/audio/quien_eres/quien_eres_1594849112530_1234.wav  \n",
            "  inflating: train/audio/quien_eres/quien_eres_1594849505080_1234.wav  \n",
            "  inflating: train/audio/quien_eres/quien_eres_1594848891856_1234.wav  \n",
            "  inflating: train/audio/quien_eres/quien_eres_1594849573907_1234.wav  \n",
            "  inflating: train/audio/quien_eres/quien_eres_1594849054469_1234.wav  \n",
            "  inflating: train/audio/quien_eres/quien_eres_1594848982006_1234.wav  \n",
            "  inflating: train/audio/quien_eres/quien_eres_1594849297737_1234.wav  \n",
            "  inflating: train/audio/quien_eres/quien_eres_1594849355520_1234.wav  \n",
            "  inflating: train/audio/quien_eres/quien_eres_1594849790214_1234.wav  \n",
            "  inflating: train/audio/que_hora_es/que_hora_es_1594849901862_1234.wav  \n",
            "  inflating: train/audio/que_hora_es/que_hora_es_1594849413905_1234.wav  \n",
            "  inflating: train/audio/que_hora_es/que_hora_es_1594849786622_1234.wav  \n",
            "  inflating: train/audio/que_hora_es/que_hora_es_1594849502531_1234.wav  \n",
            "  inflating: train/audio/que_hora_es/que_hora_es_1594849353045_1234.wav  \n",
            "  inflating: train/audio/que_hora_es/que_hora_es_1594849051306_1234.wav  \n",
            "  inflating: train/audio/que_hora_es/que_hora_es_1594849109888_1234.wav  \n",
            "  inflating: train/audio/que_hora_es/que_hora_es_1594848978497_1234.wav  \n",
            "  inflating: train/audio/que_hora_es/que_hora_es_1594849571138_1234.wav  \n",
            "  inflating: train/audio/que_hora_es/que_hora_es_1594849692114_1234.wav  \n",
            "  inflating: train/audio/que_hora_es/que_hora_es_1594849294754_1234.wav  \n",
            "  inflating: train/audio/que_hora_es/que_hora_es_1594848889429_1234.wav  \n",
            "  inflating: train/audio/que_hora_es/que_hora_es_1594849221156_1234.wav  \n",
            "Archive:  test.zip\n",
            "replace test/abonar.wav? [y]es, [n]o, [A]ll, [N]one, [r]ename: A\n",
            "  inflating: test/abonar.wav         \n"
          ],
          "name": "stdout"
        }
      ]
    },
    {
      "cell_type": "code",
      "metadata": {
        "id": "EC5pJ1LFu4-6",
        "colab_type": "code",
        "colab": {
          "base_uri": "https://localhost:8080/",
          "height": 304
        },
        "outputId": "85fef207-0a9d-459e-d3df-bc832900f026"
      },
      "source": [
        "!pip install sounddevice\n",
        "!pip install soundfile\n",
        "!pip install tqdm\n",
        "!apt-get install libportaudio2"
      ],
      "execution_count": 87,
      "outputs": [
        {
          "output_type": "stream",
          "text": [
            "Requirement already satisfied: sounddevice in /usr/local/lib/python3.6/dist-packages (0.4.0)\n",
            "Requirement already satisfied: CFFI>=1.0 in /usr/local/lib/python3.6/dist-packages (from sounddevice) (1.14.0)\n",
            "Requirement already satisfied: pycparser in /usr/local/lib/python3.6/dist-packages (from CFFI>=1.0->sounddevice) (2.20)\n",
            "Requirement already satisfied: soundfile in /usr/local/lib/python3.6/dist-packages (0.10.3.post1)\n",
            "Requirement already satisfied: cffi>=1.0 in /usr/local/lib/python3.6/dist-packages (from soundfile) (1.14.0)\n",
            "Requirement already satisfied: pycparser in /usr/local/lib/python3.6/dist-packages (from cffi>=1.0->soundfile) (2.20)\n",
            "Requirement already satisfied: tqdm in /usr/local/lib/python3.6/dist-packages (4.41.1)\n",
            "Reading package lists... Done\n",
            "Building dependency tree       \n",
            "Reading state information... Done\n",
            "libportaudio2 is already the newest version (19.6.0-1).\n",
            "The following package was automatically installed and is no longer required:\n",
            "  libnvidia-common-440\n",
            "Use 'apt autoremove' to remove it.\n",
            "0 upgraded, 0 newly installed, 0 to remove and 35 not upgraded.\n"
          ],
          "name": "stdout"
        }
      ]
    },
    {
      "cell_type": "code",
      "metadata": {
        "id": "3zUDH4KnLSef",
        "colab_type": "code",
        "colab": {}
      },
      "source": [
        "import os\n",
        "import librosa\n",
        "import warnings\n",
        "import IPython.display as ipd\n",
        "import matplotlib.pyplot as plt\n",
        "import numpy as np\n",
        "import pandas as pd\n",
        "import tensorflow as tf\n",
        "from tensorflow.compat.v1 import ConfigProto\n",
        "from tensorflow.compat.v1 import Session\n",
        "from tensorflow.compat.v1.keras.layers import Bidirectional, BatchNormalization, CuDNNGRU, TimeDistributed\n",
        "from tensorflow.compat.v1.keras.layers import Dense, Dropout, Flatten, Conv1D, Input, MaxPooling1D\n",
        "from tensorflow.compat.v1.keras.models import Model\n",
        "from tensorflow.keras.models import load_model\n",
        "from tensorflow.compat.v1.keras.callbacks import EarlyStopping, ModelCheckpoint\n",
        "from tensorflow.compat.v1.keras import backend as K\n",
        "from keras.utils import np_utils\n",
        "from scipy.io import wavfile\n",
        "from sklearn.preprocessing import LabelEncoder\n",
        "from sklearn.model_selection import train_test_split\n",
        "\n",
        "\n",
        "import matplotlib.pyplot as plt\n",
        "import random\n",
        "\n",
        "import sounddevice as sd\n",
        "import soundfile as sf\n",
        "from tqdm import tqdm"
      ],
      "execution_count": 88,
      "outputs": []
    },
    {
      "cell_type": "code",
      "metadata": {
        "id": "Tg2RN4eXLWnR",
        "colab_type": "code",
        "colab": {}
      },
      "source": [
        "config = ConfigProto()\n",
        "config.gpu_options.allow_growth = True\n",
        "sess = Session(config=config)\n",
        "\n",
        "warnings.filterwarnings(\"ignore\")"
      ],
      "execution_count": 89,
      "outputs": []
    },
    {
      "cell_type": "code",
      "metadata": {
        "id": "KLyjHg1StHZH",
        "colab_type": "code",
        "colab": {}
      },
      "source": [
        "labels = [\n",
        "    'abonar', 'adios_pepe', 'ayuda', 'cargar_ruta', 'como_me_llamo', 'hola_pepe', 'que_hora_es', 'quien_eres', 'quien_te_hizo'\n",
        "]"
      ],
      "execution_count": 90,
      "outputs": []
    },
    {
      "cell_type": "code",
      "metadata": {
        "id": "23VGstirLZme",
        "colab_type": "code",
        "colab": {
          "base_uri": "https://localhost:8080/",
          "height": 36
        },
        "outputId": "8e659efe-22d7-4496-b5b2-0a90a676429a"
      },
      "source": [
        "train_audio_path = './train/audio/'\n",
        "\n",
        "all_wave = []\n",
        "all_label = []\n",
        "for label in tqdm(labels):\n",
        "    waves = [f for f in os.listdir(train_audio_path + '/'+ label) if f.endswith('.wav')]\n",
        "    for wav in waves:\n",
        "        samples, sample_rate = librosa.load(train_audio_path + '/' + label + '/' + wav, sr = 16000)\n",
        "        samples = librosa.resample(samples, sample_rate, 8000)\n",
        "        samples = librosa.util.fix_length(samples, 8000, mode='edge')\n",
        "\n",
        "        if(len(samples)== 8000) :\n",
        "            all_wave.append(samples)\n",
        "            all_label.append(label)"
      ],
      "execution_count": 91,
      "outputs": [
        {
          "output_type": "stream",
          "text": [
            "100%|██████████| 9/9 [00:46<00:00,  5.16s/it]\n"
          ],
          "name": "stderr"
        }
      ]
    },
    {
      "cell_type": "code",
      "metadata": {
        "id": "tsJKDx1WLbxv",
        "colab_type": "code",
        "colab": {}
      },
      "source": [
        "label_enconder = LabelEncoder()\n",
        "y = label_enconder.fit_transform(all_label)\n",
        "classes = list(label_enconder.classes_)\n",
        "y = np_utils.to_categorical(y, num_classes=len(labels))\n",
        "\n",
        "all_wave = np.array(all_wave).reshape(-1,8000,1)\n",
        "\n",
        "x_train, x_valid, y_train, y_valid = train_test_split(np.array(all_wave),np.array(y),stratify=y,test_size = 0.2,random_state=777,shuffle=True)\n",
        "\n",
        "\n",
        "K.clear_session()"
      ],
      "execution_count": 92,
      "outputs": []
    },
    {
      "cell_type": "code",
      "metadata": {
        "id": "hIuUtbdSLfnq",
        "colab_type": "code",
        "colab": {}
      },
      "source": [
        "inputs = Input(shape=(8000,1))\n",
        "x = BatchNormalization(axis=-1, momentum=0.99, epsilon=1e-3, center=True, scale=True)(inputs)\n",
        "\n",
        "#First Conv1D layer\n",
        "x = Conv1D(8,13, padding='valid', activation='relu', strides=1)(x)\n",
        "x = MaxPooling1D(3)(x)\n",
        "x = Dropout(0.3)(x)\n",
        "\n",
        "#Second Conv1D layer\n",
        "x = Conv1D(16, 11, padding='valid', activation='relu', strides=1)(x)\n",
        "x = MaxPooling1D(3)(x)\n",
        "x = Dropout(0.3)(x)\n",
        "\n",
        "#Third Conv1D layer\n",
        "x = Conv1D(32, 9, padding='valid', activation='relu', strides=1)(x)\n",
        "x = MaxPooling1D(3)(x)\n",
        "x = Dropout(0.3)(x)\n",
        "\n",
        "x = BatchNormalization(axis=-1, momentum=0.99, epsilon=1e-3, center=True, scale=True)(x)\n",
        "\n",
        "x = Bidirectional(CuDNNGRU(128, return_sequences=True), merge_mode='sum')(x)\n",
        "x = Bidirectional(CuDNNGRU(128, return_sequences=True), merge_mode='sum')(x)\n",
        "x = Bidirectional(CuDNNGRU(128, return_sequences=False), merge_mode='sum')(x)\n",
        "\n",
        "x = BatchNormalization(axis=-1, momentum=0.99, epsilon=1e-3, center=True, scale=True)(x)\n",
        "\n",
        "#Flatten layer\n",
        "# x = Flatten()(x)\n",
        "\n",
        "#Dense Layer 1\n",
        "x = Dense(256, activation='relu')(x)\n",
        "outputs = Dense(len(labels), activation=\"softmax\")(x)"
      ],
      "execution_count": 93,
      "outputs": []
    },
    {
      "cell_type": "code",
      "metadata": {
        "id": "6GPqPstLLjM9",
        "colab_type": "code",
        "colab": {
          "base_uri": "https://localhost:8080/",
          "height": 1000
        },
        "outputId": "095bc97a-f040-4155-d823-6fa9da5a571d"
      },
      "source": [
        "model = Model(inputs, outputs)\n",
        "model.summary()\n",
        "\n",
        "model.compile(loss='categorical_crossentropy',optimizer='nadam',metrics=['accuracy'])\n",
        "\n",
        "early_stop = EarlyStopping(monitor='val_loss', mode='min', \n",
        "                           verbose=1, patience=10, min_delta=0.0001)\n",
        "\n",
        "checkpoint = ModelCheckpoint('model.hdf5', monitor='val_acc', \n",
        "                             verbose=1, save_best_only=True, mode='max')\n",
        "\n",
        "hist = model.fit(\n",
        "    x=x_train, \n",
        "    y=y_train,\n",
        "    epochs=100, \n",
        "    callbacks=[early_stop, checkpoint], \n",
        "    batch_size=32, \n",
        "    validation_data=(x_valid,y_valid)\n",
        ")"
      ],
      "execution_count": 94,
      "outputs": [
        {
          "output_type": "stream",
          "text": [
            "Model: \"model\"\n",
            "_________________________________________________________________\n",
            "Layer (type)                 Output Shape              Param #   \n",
            "=================================================================\n",
            "input_1 (InputLayer)         [(None, 8000, 1)]         0         \n",
            "_________________________________________________________________\n",
            "batch_normalization (BatchNo (None, 8000, 1)           4         \n",
            "_________________________________________________________________\n",
            "conv1d (Conv1D)              (None, 7988, 8)           112       \n",
            "_________________________________________________________________\n",
            "max_pooling1d (MaxPooling1D) (None, 2662, 8)           0         \n",
            "_________________________________________________________________\n",
            "dropout (Dropout)            (None, 2662, 8)           0         \n",
            "_________________________________________________________________\n",
            "conv1d_1 (Conv1D)            (None, 2652, 16)          1424      \n",
            "_________________________________________________________________\n",
            "max_pooling1d_1 (MaxPooling1 (None, 884, 16)           0         \n",
            "_________________________________________________________________\n",
            "dropout_1 (Dropout)          (None, 884, 16)           0         \n",
            "_________________________________________________________________\n",
            "conv1d_2 (Conv1D)            (None, 876, 32)           4640      \n",
            "_________________________________________________________________\n",
            "max_pooling1d_2 (MaxPooling1 (None, 292, 32)           0         \n",
            "_________________________________________________________________\n",
            "dropout_2 (Dropout)          (None, 292, 32)           0         \n",
            "_________________________________________________________________\n",
            "batch_normalization_1 (Batch (None, 292, 32)           128       \n",
            "_________________________________________________________________\n",
            "bidirectional (Bidirectional (None, 292, 128)          124416    \n",
            "_________________________________________________________________\n",
            "bidirectional_1 (Bidirection (None, 292, 128)          198144    \n",
            "_________________________________________________________________\n",
            "bidirectional_2 (Bidirection (None, 128)               198144    \n",
            "_________________________________________________________________\n",
            "batch_normalization_2 (Batch (None, 128)               512       \n",
            "_________________________________________________________________\n",
            "dense (Dense)                (None, 256)               33024     \n",
            "_________________________________________________________________\n",
            "dense_1 (Dense)              (None, 9)                 2313      \n",
            "=================================================================\n",
            "Total params: 562,861\n",
            "Trainable params: 562,539\n",
            "Non-trainable params: 322\n",
            "_________________________________________________________________\n",
            "Epoch 1/100\n",
            "3/3 [==============================] - ETA: 0s - loss: 2.5185 - accuracy: 0.0645WARNING:tensorflow:Can save best model only with val_acc available, skipping.\n"
          ],
          "name": "stdout"
        },
        {
          "output_type": "stream",
          "text": [
            "WARNING:tensorflow:Can save best model only with val_acc available, skipping.\n"
          ],
          "name": "stderr"
        },
        {
          "output_type": "stream",
          "text": [
            "3/3 [==============================] - 1s 319ms/step - loss: 2.5185 - accuracy: 0.0645 - val_loss: 2.1970 - val_accuracy: 0.1250\n",
            "Epoch 2/100\n",
            "3/3 [==============================] - ETA: 0s - loss: 2.2337 - accuracy: 0.1720WARNING:tensorflow:Can save best model only with val_acc available, skipping.\n"
          ],
          "name": "stdout"
        },
        {
          "output_type": "stream",
          "text": [
            "WARNING:tensorflow:Can save best model only with val_acc available, skipping.\n"
          ],
          "name": "stderr"
        },
        {
          "output_type": "stream",
          "text": [
            "\b\b\b\b\b\b\b\b\b\b\b\b\b\b\b\b\b\b\b\b\b\b\b\b\b\b\b\b\b\b\b\b\b\b\b\b\b\b\b\b\b\b\b\b\b\b\b\b\b\b\b\b\b\b\b\b\b\b\b\b\b\b\b\b\b\b\b\b\b\b\b\b\b\b\b\b\b\b\b\b\r3/3 [==============================] - 0s 76ms/step - loss: 2.2337 - accuracy: 0.1720 - val_loss: 2.1969 - val_accuracy: 0.0417\n",
            "Epoch 3/100\n",
            "3/3 [==============================] - ETA: 0s - loss: 2.2294 - accuracy: 0.1828WARNING:tensorflow:Can save best model only with val_acc available, skipping.\n"
          ],
          "name": "stdout"
        },
        {
          "output_type": "stream",
          "text": [
            "WARNING:tensorflow:Can save best model only with val_acc available, skipping.\n"
          ],
          "name": "stderr"
        },
        {
          "output_type": "stream",
          "text": [
            "3/3 [==============================] - 0s 163ms/step - loss: 2.2294 - accuracy: 0.1828 - val_loss: 2.1962 - val_accuracy: 0.1250\n",
            "Epoch 4/100\n",
            "3/3 [==============================] - ETA: 0s - loss: 2.0689 - accuracy: 0.2151WARNING:tensorflow:Can save best model only with val_acc available, skipping.\n"
          ],
          "name": "stdout"
        },
        {
          "output_type": "stream",
          "text": [
            "WARNING:tensorflow:Can save best model only with val_acc available, skipping.\n"
          ],
          "name": "stderr"
        },
        {
          "output_type": "stream",
          "text": [
            "\b\b\b\b\b\b\b\b\b\b\b\b\b\b\b\b\b\b\b\b\b\b\b\b\b\b\b\b\b\b\b\b\b\b\b\b\b\b\b\b\b\b\b\b\b\b\b\b\b\b\b\b\b\b\b\b\b\b\b\b\b\b\b\b\b\b\b\b\b\b\b\b\b\b\b\b\b\b\b\b\r3/3 [==============================] - 0s 76ms/step - loss: 2.0689 - accuracy: 0.2151 - val_loss: 2.1965 - val_accuracy: 0.1250\n",
            "Epoch 5/100\n",
            "3/3 [==============================] - ETA: 0s - loss: 2.1056 - accuracy: 0.2473WARNING:tensorflow:Can save best model only with val_acc available, skipping.\n"
          ],
          "name": "stdout"
        },
        {
          "output_type": "stream",
          "text": [
            "WARNING:tensorflow:Can save best model only with val_acc available, skipping.\n"
          ],
          "name": "stderr"
        },
        {
          "output_type": "stream",
          "text": [
            "\b\b\b\b\b\b\b\b\b\b\b\b\b\b\b\b\b\b\b\b\b\b\b\b\b\b\b\b\b\b\b\b\b\b\b\b\b\b\b\b\b\b\b\b\b\b\b\b\b\b\b\b\b\b\b\b\b\b\b\b\b\b\b\b\b\b\b\b\b\b\b\b\b\b\b\b\b\b\b\b\r3/3 [==============================] - 0s 78ms/step - loss: 2.1056 - accuracy: 0.2473 - val_loss: 2.1978 - val_accuracy: 0.0833\n",
            "Epoch 6/100\n",
            "3/3 [==============================] - ETA: 0s - loss: 2.0164 - accuracy: 0.2366WARNING:tensorflow:Can save best model only with val_acc available, skipping.\n"
          ],
          "name": "stdout"
        },
        {
          "output_type": "stream",
          "text": [
            "WARNING:tensorflow:Can save best model only with val_acc available, skipping.\n"
          ],
          "name": "stderr"
        },
        {
          "output_type": "stream",
          "text": [
            "\b\b\b\b\b\b\b\b\b\b\b\b\b\b\b\b\b\b\b\b\b\b\b\b\b\b\b\b\b\b\b\b\b\b\b\b\b\b\b\b\b\b\b\b\b\b\b\b\b\b\b\b\b\b\b\b\b\b\b\b\b\b\b\b\b\b\b\b\b\b\b\b\b\b\b\b\b\b\b\b\r3/3 [==============================] - 0s 75ms/step - loss: 2.0164 - accuracy: 0.2366 - val_loss: 2.1977 - val_accuracy: 0.0417\n",
            "Epoch 7/100\n",
            "3/3 [==============================] - ETA: 0s - loss: 2.0899 - accuracy: 0.2366WARNING:tensorflow:Can save best model only with val_acc available, skipping.\n"
          ],
          "name": "stdout"
        },
        {
          "output_type": "stream",
          "text": [
            "WARNING:tensorflow:Can save best model only with val_acc available, skipping.\n"
          ],
          "name": "stderr"
        },
        {
          "output_type": "stream",
          "text": [
            "\b\b\b\b\b\b\b\b\b\b\b\b\b\b\b\b\b\b\b\b\b\b\b\b\b\b\b\b\b\b\b\b\b\b\b\b\b\b\b\b\b\b\b\b\b\b\b\b\b\b\b\b\b\b\b\b\b\b\b\b\b\b\b\b\b\b\b\b\b\b\b\b\b\b\b\b\b\b\b\b\r3/3 [==============================] - 0s 74ms/step - loss: 2.0899 - accuracy: 0.2366 - val_loss: 2.1991 - val_accuracy: 0.0833\n",
            "Epoch 8/100\n",
            "3/3 [==============================] - ETA: 0s - loss: 2.0731 - accuracy: 0.2258WARNING:tensorflow:Can save best model only with val_acc available, skipping.\n"
          ],
          "name": "stdout"
        },
        {
          "output_type": "stream",
          "text": [
            "WARNING:tensorflow:Can save best model only with val_acc available, skipping.\n"
          ],
          "name": "stderr"
        },
        {
          "output_type": "stream",
          "text": [
            "\b\b\b\b\b\b\b\b\b\b\b\b\b\b\b\b\b\b\b\b\b\b\b\b\b\b\b\b\b\b\b\b\b\b\b\b\b\b\b\b\b\b\b\b\b\b\b\b\b\b\b\b\b\b\b\b\b\b\b\b\b\b\b\b\b\b\b\b\b\b\b\b\b\b\b\b\b\b\b\b\r3/3 [==============================] - 0s 76ms/step - loss: 2.0731 - accuracy: 0.2258 - val_loss: 2.2023 - val_accuracy: 0.0833\n",
            "Epoch 9/100\n",
            "3/3 [==============================] - ETA: 0s - loss: 2.0419 - accuracy: 0.2903WARNING:tensorflow:Can save best model only with val_acc available, skipping.\n"
          ],
          "name": "stdout"
        },
        {
          "output_type": "stream",
          "text": [
            "WARNING:tensorflow:Can save best model only with val_acc available, skipping.\n"
          ],
          "name": "stderr"
        },
        {
          "output_type": "stream",
          "text": [
            "\b\b\b\b\b\b\b\b\b\b\b\b\b\b\b\b\b\b\b\b\b\b\b\b\b\b\b\b\b\b\b\b\b\b\b\b\b\b\b\b\b\b\b\b\b\b\b\b\b\b\b\b\b\b\b\b\b\b\b\b\b\b\b\b\b\b\b\b\b\b\b\b\b\b\b\b\b\b\b\b\r3/3 [==============================] - 0s 71ms/step - loss: 2.0419 - accuracy: 0.2903 - val_loss: 2.2060 - val_accuracy: 0.0833\n",
            "Epoch 10/100\n",
            "3/3 [==============================] - ETA: 0s - loss: 1.9942 - accuracy: 0.2366WARNING:tensorflow:Can save best model only with val_acc available, skipping.\n"
          ],
          "name": "stdout"
        },
        {
          "output_type": "stream",
          "text": [
            "WARNING:tensorflow:Can save best model only with val_acc available, skipping.\n"
          ],
          "name": "stderr"
        },
        {
          "output_type": "stream",
          "text": [
            "\b\b\b\b\b\b\b\b\b\b\b\b\b\b\b\b\b\b\b\b\b\b\b\b\b\b\b\b\b\b\b\b\b\b\b\b\b\b\b\b\b\b\b\b\b\b\b\b\b\b\b\b\b\b\b\b\b\b\b\b\b\b\b\b\b\b\b\b\b\b\b\b\b\b\b\b\b\b\b\b\r3/3 [==============================] - 0s 72ms/step - loss: 1.9942 - accuracy: 0.2366 - val_loss: 2.2214 - val_accuracy: 0.0833\n",
            "Epoch 11/100\n",
            "3/3 [==============================] - ETA: 0s - loss: 2.0425 - accuracy: 0.3011WARNING:tensorflow:Can save best model only with val_acc available, skipping.\n"
          ],
          "name": "stdout"
        },
        {
          "output_type": "stream",
          "text": [
            "WARNING:tensorflow:Can save best model only with val_acc available, skipping.\n"
          ],
          "name": "stderr"
        },
        {
          "output_type": "stream",
          "text": [
            "\b\b\b\b\b\b\b\b\b\b\b\b\b\b\b\b\b\b\b\b\b\b\b\b\b\b\b\b\b\b\b\b\b\b\b\b\b\b\b\b\b\b\b\b\b\b\b\b\b\b\b\b\b\b\b\b\b\b\b\b\b\b\b\b\b\b\b\b\b\b\b\b\b\b\b\b\b\b\b\b\r3/3 [==============================] - 0s 74ms/step - loss: 2.0425 - accuracy: 0.3011 - val_loss: 2.2194 - val_accuracy: 0.0833\n",
            "Epoch 12/100\n",
            "3/3 [==============================] - ETA: 0s - loss: 1.9277 - accuracy: 0.2903WARNING:tensorflow:Can save best model only with val_acc available, skipping.\n"
          ],
          "name": "stdout"
        },
        {
          "output_type": "stream",
          "text": [
            "WARNING:tensorflow:Can save best model only with val_acc available, skipping.\n"
          ],
          "name": "stderr"
        },
        {
          "output_type": "stream",
          "text": [
            "\b\b\b\b\b\b\b\b\b\b\b\b\b\b\b\b\b\b\b\b\b\b\b\b\b\b\b\b\b\b\b\b\b\b\b\b\b\b\b\b\b\b\b\b\b\b\b\b\b\b\b\b\b\b\b\b\b\b\b\b\b\b\b\b\b\b\b\b\b\b\b\b\b\b\b\b\b\b\b\b\r3/3 [==============================] - 0s 83ms/step - loss: 1.9277 - accuracy: 0.2903 - val_loss: 2.2357 - val_accuracy: 0.0833\n",
            "Epoch 13/100\n",
            "3/3 [==============================] - ETA: 0s - loss: 1.9377 - accuracy: 0.2151WARNING:tensorflow:Can save best model only with val_acc available, skipping.\n"
          ],
          "name": "stdout"
        },
        {
          "output_type": "stream",
          "text": [
            "WARNING:tensorflow:Can save best model only with val_acc available, skipping.\n"
          ],
          "name": "stderr"
        },
        {
          "output_type": "stream",
          "text": [
            "\b\b\b\b\b\b\b\b\b\b\b\b\b\b\b\b\b\b\b\b\b\b\b\b\b\b\b\b\b\b\b\b\b\b\b\b\b\b\b\b\b\b\b\b\b\b\b\b\b\b\b\b\b\b\b\b\b\b\b\b\b\b\b\b\b\b\b\b\b\b\b\b\b\b\b\b\b\b\b\b\r3/3 [==============================] - 0s 77ms/step - loss: 1.9377 - accuracy: 0.2151 - val_loss: 2.2406 - val_accuracy: 0.0833\n",
            "Epoch 00013: early stopping\n"
          ],
          "name": "stdout"
        }
      ]
    },
    {
      "cell_type": "code",
      "metadata": {
        "id": "cJ6iCF-cLm5t",
        "colab_type": "code",
        "colab": {
          "base_uri": "https://localhost:8080/",
          "height": 265
        },
        "outputId": "a4d2ce16-0aeb-47b7-9a43-206be5ad909b"
      },
      "source": [
        "plt.plot(hist.history['loss'], label='train')\n",
        "plt.plot(hist.history['val_loss'], label='test')\n",
        "plt.legend()\n",
        "plt.show()"
      ],
      "execution_count": 95,
      "outputs": [
        {
          "output_type": "display_data",
          "data": {
            "image/png": "[encoded data removed]",
            "text/plain": [
              "<Figure size 432x288 with 1 Axes>"
            ]
          },
          "metadata": {
            "tags": [],
            "needs_background": "light"
          }
        }
      ]
    },
    {
      "cell_type": "code",
      "metadata": {
        "id": "duHJpSSlLqjq",
        "colab_type": "code",
        "colab": {}
      },
      "source": [
        "model.compile(loss='categorical_crossentropy',optimizer='nadam',metrics=['accuracy'])"
      ],
      "execution_count": 96,
      "outputs": []
    },
    {
      "cell_type": "code",
      "metadata": {
        "id": "kD4_fRRmLtY7",
        "colab_type": "code",
        "colab": {}
      },
      "source": [
        "early_stop = EarlyStopping(monitor='val_loss', mode='min', verbose=1, patience=10, min_delta=0.0001) \n",
        "checkpoint = ModelCheckpoint('model.hdf5', monitor='val_acc', verbose=1, save_best_only=True, mode='max')"
      ],
      "execution_count": 97,
      "outputs": []
    },
    {
      "cell_type": "code",
      "metadata": {
        "id": "4pxVTPiLLuHl",
        "colab_type": "code",
        "colab": {
          "base_uri": "https://localhost:8080/",
          "height": 1000
        },
        "outputId": "9cad2bc0-06ee-4d47-b47b-93aa29dbaf12"
      },
      "source": [
        "hist = model.fit(\n",
        "    x=x_train, \n",
        "    y=y_train,\n",
        "    epochs=100, \n",
        "    callbacks=[early_stop, checkpoint], \n",
        "    batch_size=32, \n",
        "    validation_data=(x_valid,y_valid)\n",
        ")"
      ],
      "execution_count": 98,
      "outputs": [
        {
          "output_type": "stream",
          "text": [
            "Epoch 1/100\n",
            "3/3 [==============================] - ETA: 0s - loss: 1.9340 - accuracy: 0.2366WARNING:tensorflow:Can save best model only with val_acc available, skipping.\n"
          ],
          "name": "stdout"
        },
        {
          "output_type": "stream",
          "text": [
            "WARNING:tensorflow:Can save best model only with val_acc available, skipping.\n"
          ],
          "name": "stderr"
        },
        {
          "output_type": "stream",
          "text": [
            "3/3 [==============================] - 1s 302ms/step - loss: 1.9340 - accuracy: 0.2366 - val_loss: 2.2425 - val_accuracy: 0.0833\n",
            "Epoch 2/100\n",
            "3/3 [==============================] - ETA: 0s - loss: 1.9315 - accuracy: 0.2796WARNING:tensorflow:Can save best model only with val_acc available, skipping.\n"
          ],
          "name": "stdout"
        },
        {
          "output_type": "stream",
          "text": [
            "WARNING:tensorflow:Can save best model only with val_acc available, skipping.\n"
          ],
          "name": "stderr"
        },
        {
          "output_type": "stream",
          "text": [
            "\b\b\b\b\b\b\b\b\b\b\b\b\b\b\b\b\b\b\b\b\b\b\b\b\b\b\b\b\b\b\b\b\b\b\b\b\b\b\b\b\b\b\b\b\b\b\b\b\b\b\b\b\b\b\b\b\b\b\b\b\b\b\b\b\b\b\b\b\b\b\b\b\b\b\b\b\b\b\b\b\r3/3 [==============================] - 0s 81ms/step - loss: 1.9315 - accuracy: 0.2796 - val_loss: 2.2770 - val_accuracy: 0.0833\n",
            "Epoch 3/100\n",
            "3/3 [==============================] - ETA: 0s - loss: 1.8089 - accuracy: 0.3118WARNING:tensorflow:Can save best model only with val_acc available, skipping.\n"
          ],
          "name": "stdout"
        },
        {
          "output_type": "stream",
          "text": [
            "WARNING:tensorflow:Can save best model only with val_acc available, skipping.\n"
          ],
          "name": "stderr"
        },
        {
          "output_type": "stream",
          "text": [
            "\b\b\b\b\b\b\b\b\b\b\b\b\b\b\b\b\b\b\b\b\b\b\b\b\b\b\b\b\b\b\b\b\b\b\b\b\b\b\b\b\b\b\b\b\b\b\b\b\b\b\b\b\b\b\b\b\b\b\b\b\b\b\b\b\b\b\b\b\b\b\b\b\b\b\b\b\b\b\b\b\r3/3 [==============================] - 0s 82ms/step - loss: 1.8089 - accuracy: 0.3118 - val_loss: 2.2304 - val_accuracy: 0.0833\n",
            "Epoch 4/100\n",
            "3/3 [==============================] - ETA: 0s - loss: 1.8302 - accuracy: 0.3548WARNING:tensorflow:Can save best model only with val_acc available, skipping.\n"
          ],
          "name": "stdout"
        },
        {
          "output_type": "stream",
          "text": [
            "WARNING:tensorflow:Can save best model only with val_acc available, skipping.\n"
          ],
          "name": "stderr"
        },
        {
          "output_type": "stream",
          "text": [
            "\b\b\b\b\b\b\b\b\b\b\b\b\b\b\b\b\b\b\b\b\b\b\b\b\b\b\b\b\b\b\b\b\b\b\b\b\b\b\b\b\b\b\b\b\b\b\b\b\b\b\b\b\b\b\b\b\b\b\b\b\b\b\b\b\b\b\b\b\b\b\b\b\b\b\b\b\b\b\b\b\r3/3 [==============================] - 0s 74ms/step - loss: 1.8302 - accuracy: 0.3548 - val_loss: 2.2888 - val_accuracy: 0.0833\n",
            "Epoch 5/100\n",
            "3/3 [==============================] - ETA: 0s - loss: 1.8640 - accuracy: 0.2688WARNING:tensorflow:Can save best model only with val_acc available, skipping.\n"
          ],
          "name": "stdout"
        },
        {
          "output_type": "stream",
          "text": [
            "WARNING:tensorflow:Can save best model only with val_acc available, skipping.\n"
          ],
          "name": "stderr"
        },
        {
          "output_type": "stream",
          "text": [
            "\b\b\b\b\b\b\b\b\b\b\b\b\b\b\b\b\b\b\b\b\b\b\b\b\b\b\b\b\b\b\b\b\b\b\b\b\b\b\b\b\b\b\b\b\b\b\b\b\b\b\b\b\b\b\b\b\b\b\b\b\b\b\b\b\b\b\b\b\b\b\b\b\b\b\b\b\b\b\b\b\r3/3 [==============================] - 0s 73ms/step - loss: 1.8640 - accuracy: 0.2688 - val_loss: 2.2775 - val_accuracy: 0.0833\n",
            "Epoch 6/100\n",
            "3/3 [==============================] - ETA: 0s - loss: 1.7821 - accuracy: 0.3763WARNING:tensorflow:Can save best model only with val_acc available, skipping.\n"
          ],
          "name": "stdout"
        },
        {
          "output_type": "stream",
          "text": [
            "WARNING:tensorflow:Can save best model only with val_acc available, skipping.\n"
          ],
          "name": "stderr"
        },
        {
          "output_type": "stream",
          "text": [
            "\b\b\b\b\b\b\b\b\b\b\b\b\b\b\b\b\b\b\b\b\b\b\b\b\b\b\b\b\b\b\b\b\b\b\b\b\b\b\b\b\b\b\b\b\b\b\b\b\b\b\b\b\b\b\b\b\b\b\b\b\b\b\b\b\b\b\b\b\b\b\b\b\b\b\b\b\b\b\b\b\r3/3 [==============================] - 0s 71ms/step - loss: 1.7821 - accuracy: 0.3763 - val_loss: 2.3068 - val_accuracy: 0.0833\n",
            "Epoch 7/100\n",
            "3/3 [==============================] - ETA: 0s - loss: 1.7857 - accuracy: 0.3763WARNING:tensorflow:Can save best model only with val_acc available, skipping.\n"
          ],
          "name": "stdout"
        },
        {
          "output_type": "stream",
          "text": [
            "WARNING:tensorflow:Can save best model only with val_acc available, skipping.\n"
          ],
          "name": "stderr"
        },
        {
          "output_type": "stream",
          "text": [
            "\b\b\b\b\b\b\b\b\b\b\b\b\b\b\b\b\b\b\b\b\b\b\b\b\b\b\b\b\b\b\b\b\b\b\b\b\b\b\b\b\b\b\b\b\b\b\b\b\b\b\b\b\b\b\b\b\b\b\b\b\b\b\b\b\b\b\b\b\b\b\b\b\b\b\b\b\b\b\b\b\r3/3 [==============================] - 0s 73ms/step - loss: 1.7857 - accuracy: 0.3763 - val_loss: 2.2577 - val_accuracy: 0.0833\n",
            "Epoch 8/100\n",
            "3/3 [==============================] - ETA: 0s - loss: 1.5919 - accuracy: 0.3656WARNING:tensorflow:Can save best model only with val_acc available, skipping.\n"
          ],
          "name": "stdout"
        },
        {
          "output_type": "stream",
          "text": [
            "WARNING:tensorflow:Can save best model only with val_acc available, skipping.\n"
          ],
          "name": "stderr"
        },
        {
          "output_type": "stream",
          "text": [
            "\b\b\b\b\b\b\b\b\b\b\b\b\b\b\b\b\b\b\b\b\b\b\b\b\b\b\b\b\b\b\b\b\b\b\b\b\b\b\b\b\b\b\b\b\b\b\b\b\b\b\b\b\b\b\b\b\b\b\b\b\b\b\b\b\b\b\b\b\b\b\b\b\b\b\b\b\b\b\b\b\r3/3 [==============================] - 0s 71ms/step - loss: 1.5919 - accuracy: 0.3656 - val_loss: 2.3048 - val_accuracy: 0.0833\n",
            "Epoch 9/100\n",
            "3/3 [==============================] - ETA: 0s - loss: 1.6921 - accuracy: 0.3441WARNING:tensorflow:Can save best model only with val_acc available, skipping.\n"
          ],
          "name": "stdout"
        },
        {
          "output_type": "stream",
          "text": [
            "WARNING:tensorflow:Can save best model only with val_acc available, skipping.\n"
          ],
          "name": "stderr"
        },
        {
          "output_type": "stream",
          "text": [
            "\b\b\b\b\b\b\b\b\b\b\b\b\b\b\b\b\b\b\b\b\b\b\b\b\b\b\b\b\b\b\b\b\b\b\b\b\b\b\b\b\b\b\b\b\b\b\b\b\b\b\b\b\b\b\b\b\b\b\b\b\b\b\b\b\b\b\b\b\b\b\b\b\b\b\b\b\b\b\b\b\r3/3 [==============================] - 0s 70ms/step - loss: 1.6921 - accuracy: 0.3441 - val_loss: 2.2948 - val_accuracy: 0.0833\n",
            "Epoch 10/100\n",
            "3/3 [==============================] - ETA: 0s - loss: 1.6650 - accuracy: 0.3763WARNING:tensorflow:Can save best model only with val_acc available, skipping.\n"
          ],
          "name": "stdout"
        },
        {
          "output_type": "stream",
          "text": [
            "WARNING:tensorflow:Can save best model only with val_acc available, skipping.\n"
          ],
          "name": "stderr"
        },
        {
          "output_type": "stream",
          "text": [
            "\b\b\b\b\b\b\b\b\b\b\b\b\b\b\b\b\b\b\b\b\b\b\b\b\b\b\b\b\b\b\b\b\b\b\b\b\b\b\b\b\b\b\b\b\b\b\b\b\b\b\b\b\b\b\b\b\b\b\b\b\b\b\b\b\b\b\b\b\b\b\b\b\b\b\b\b\b\b\b\b\r3/3 [==============================] - 0s 71ms/step - loss: 1.6650 - accuracy: 0.3763 - val_loss: 2.2818 - val_accuracy: 0.0833\n",
            "Epoch 11/100\n",
            "3/3 [==============================] - ETA: 0s - loss: 1.6471 - accuracy: 0.3871WARNING:tensorflow:Can save best model only with val_acc available, skipping.\n"
          ],
          "name": "stdout"
        },
        {
          "output_type": "stream",
          "text": [
            "WARNING:tensorflow:Can save best model only with val_acc available, skipping.\n"
          ],
          "name": "stderr"
        },
        {
          "output_type": "stream",
          "text": [
            "\b\b\b\b\b\b\b\b\b\b\b\b\b\b\b\b\b\b\b\b\b\b\b\b\b\b\b\b\b\b\b\b\b\b\b\b\b\b\b\b\b\b\b\b\b\b\b\b\b\b\b\b\b\b\b\b\b\b\b\b\b\b\b\b\b\b\b\b\b\b\b\b\b\b\b\b\b\b\b\b\r3/3 [==============================] - 0s 71ms/step - loss: 1.6471 - accuracy: 0.3871 - val_loss: 2.2925 - val_accuracy: 0.1667\n",
            "Epoch 12/100\n",
            "3/3 [==============================] - ETA: 0s - loss: 1.4881 - accuracy: 0.4624WARNING:tensorflow:Can save best model only with val_acc available, skipping.\n"
          ],
          "name": "stdout"
        },
        {
          "output_type": "stream",
          "text": [
            "WARNING:tensorflow:Can save best model only with val_acc available, skipping.\n"
          ],
          "name": "stderr"
        },
        {
          "output_type": "stream",
          "text": [
            "\b\b\b\b\b\b\b\b\b\b\b\b\b\b\b\b\b\b\b\b\b\b\b\b\b\b\b\b\b\b\b\b\b\b\b\b\b\b\b\b\b\b\b\b\b\b\b\b\b\b\b\b\b\b\b\b\b\b\b\b\b\b\b\b\b\b\b\b\b\b\b\b\b\b\b\b\b\b\b\b\r3/3 [==============================] - 0s 72ms/step - loss: 1.4881 - accuracy: 0.4624 - val_loss: 2.3542 - val_accuracy: 0.0833\n",
            "Epoch 13/100\n",
            "3/3 [==============================] - ETA: 0s - loss: 1.6450 - accuracy: 0.3871WARNING:tensorflow:Can save best model only with val_acc available, skipping.\n"
          ],
          "name": "stdout"
        },
        {
          "output_type": "stream",
          "text": [
            "WARNING:tensorflow:Can save best model only with val_acc available, skipping.\n"
          ],
          "name": "stderr"
        },
        {
          "output_type": "stream",
          "text": [
            "\b\b\b\b\b\b\b\b\b\b\b\b\b\b\b\b\b\b\b\b\b\b\b\b\b\b\b\b\b\b\b\b\b\b\b\b\b\b\b\b\b\b\b\b\b\b\b\b\b\b\b\b\b\b\b\b\b\b\b\b\b\b\b\b\b\b\b\b\b\b\b\b\b\b\b\b\b\b\b\b\r3/3 [==============================] - 0s 71ms/step - loss: 1.6450 - accuracy: 0.3871 - val_loss: 2.4372 - val_accuracy: 0.0833\n",
            "Epoch 00013: early stopping\n"
          ],
          "name": "stdout"
        }
      ]
    },
    {
      "cell_type": "code",
      "metadata": {
        "id": "Cufa-Q_4LwMN",
        "colab_type": "code",
        "colab": {
          "base_uri": "https://localhost:8080/",
          "height": 265
        },
        "outputId": "feaedd14-0073-49f5-9c74-3d6cc6207ab8"
      },
      "source": [
        "plt.plot(hist.history['loss'], label='train')\n",
        "plt.plot(hist.history['val_loss'], label='test')\n",
        "plt.legend()\n",
        "plt.show()"
      ],
      "execution_count": 99,
      "outputs": [
        {
          "output_type": "display_data",
          "data": {
            "image/png": "[encoded data removed]",
            "text/plain": [
              "<Figure size 432x288 with 1 Axes>"
            ]
          },
          "metadata": {
            "tags": [],
            "needs_background": "light"
          }
        }
      ]
    },
    {
      "cell_type": "code",
      "metadata": {
        "id": "wYBGzL28Lzsr",
        "colab_type": "code",
        "colab": {}
      },
      "source": [
        "model.save('model.hdf5')\n",
        "model = load_model('model.hdf5')"
      ],
      "execution_count": 106,
      "outputs": []
    },
    {
      "cell_type": "code",
      "metadata": {
        "id": "Ru4h54IDL3Vi",
        "colab_type": "code",
        "colab": {}
      },
      "source": [
        "def s2t_predict(audio, shape_num=8000):\n",
        "    prob=model.predict(audio.reshape(1,shape_num,1))\n",
        "    index=np.argmax(prob[0])\n",
        "    return classes[index]"
      ],
      "execution_count": 101,
      "outputs": []
    },
    {
      "cell_type": "code",
      "metadata": {
        "id": "EMZ_Y_ndL9W9",
        "colab_type": "code",
        "colab": {
          "base_uri": "https://localhost:8080/",
          "height": 79
        },
        "outputId": "3361e6c3-075d-43dd-ea15-cc680e4dd27b"
      },
      "source": [
        "index=random.randint(0,len(x_valid)-1)\n",
        "samples=x_valid[index].ravel()\n",
        "print(\"Audio:\",classes[np.argmax(y_valid[index])])\n",
        "ipd.Audio(samples, rate=8000)"
      ],
      "execution_count": 102,
      "outputs": [
        {
          "output_type": "stream",
          "text": [
            "Audio: quien_te_hizo\n"
          ],
          "name": "stdout"
        },
        {
          "output_type": "execute_result",
          "data": {
            "text/html": [
              "\n",
              "                <audio controls=\"controls\" >\n",
              "                    <source src=\"data:audio/wav;base64,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\" type=\"audio/wav\" />\n",
              "                    Your browser does not support the audio element.\n",
              "                </audio>\n",
              "              "
            ],
            "text/plain": [
              "<IPython.lib.display.Audio object>"
            ]
          },
          "metadata": {
            "tags": []
          },
          "execution_count": 102
        }
      ]
    },
    {
      "cell_type": "code",
      "metadata": {
        "id": "HAIewDYDL_lo",
        "colab_type": "code",
        "colab": {
          "base_uri": "https://localhost:8080/",
          "height": 36
        },
        "outputId": "99d95d4e-9599-4003-8299-486fc4f0aeeb"
      },
      "source": [
        "samples.shape"
      ],
      "execution_count": 103,
      "outputs": [
        {
          "output_type": "execute_result",
          "data": {
            "text/plain": [
              "(8000,)"
            ]
          },
          "metadata": {
            "tags": []
          },
          "execution_count": 103
        }
      ]
    },
    {
      "cell_type": "code",
      "metadata": {
        "id": "yGgkX8I_MCYh",
        "colab_type": "code",
        "colab": {
          "base_uri": "https://localhost:8080/",
          "height": 36
        },
        "outputId": "3de3c1e0-01dc-4623-8fe0-0c1253fe53db"
      },
      "source": [
        "print(\"Text:\",s2t_predict(samples))"
      ],
      "execution_count": 104,
      "outputs": [
        {
          "output_type": "stream",
          "text": [
            "Text: cargar_ruta\n"
          ],
          "name": "stdout"
        }
      ]
    }
  ]
}